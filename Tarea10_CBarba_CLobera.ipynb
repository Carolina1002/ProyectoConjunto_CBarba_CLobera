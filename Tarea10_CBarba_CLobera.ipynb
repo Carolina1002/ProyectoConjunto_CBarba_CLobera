{
 "cells": [
  {
   "cell_type": "markdown",
   "id": "b436b317",
   "metadata": {},
   "source": [
    "<img style=\"float: left; margin: 30px 15px 15px 15px;\" src=\"https://pngimage.net/wp-content/uploads/2018/06/logo-iteso-png-5.png\" width=\"300\" height=\"500\" /> \n",
    "    \n",
    "    \n",
    "### <font color='navy'> Simulación de procesos financieros. \n",
    "\n",
    "**Nombres:** Carolina Barba Anaya e Iván Andrés Arellano Ruelas.\n",
    "\n",
    "**Fecha:** 27 de Noviembre del 2021.\n",
    "\n",
    "**Expediente** : if720071 y .\n",
    "    \n",
    "**Profesor:** Oscar David Jaramillo Zuluaga.\n",
    "    \n",
    "**Link Github**: https://github.com/Carolina1002/ProyectoConjunto_CBarba_CLobera.git\n",
    "\n",
    "# Tarea 10: Clase 24"
   ]
  },
  {
   "cell_type": "markdown",
   "id": "1d185f07",
   "metadata": {},
   "source": [
    "Realizar la valuación de las opciones barrera para las acciones de Microsoft, siguiendo los siguientes lineamientos:\n",
    "1. Realizar la valuación para el tipo de opción barrera 'CALL'- down-and-out, usando la suposición de rendimientos normales y usando el método del histograma. Para ambas valuaciones, comparar los resultados de la evaluación obtenida con los resultados obtenidos por la valuación Europea. Como se realizó en clase.\n",
    "2. Repetir el inciso anterior pero en esta ocasión para el caso de 'PUT'- Up-and-out.\n",
    "\n",
    "**Nota:** Analice los datos descargados y según el método ya sea `down-and-out` o `Up-and-out` defina un strike price usando la volatility smile vista en la clase de opciones europeas y basado en el spot price y el strike defina una barrera adecuada.\n",
    "\n",
    "Se habilitará un enlace en canvas para subir un cuaderno de python, con la solución.\n",
    "\n",
    "**Criterio de revisión.**\n",
    "\n",
    "> Se te calificará de acuerdo a los resultados finales que reportes, basados en tu análisis."
   ]
  },
  {
   "cell_type": "markdown",
   "id": "c37088a5",
   "metadata": {},
   "source": [
    "#### SOLUCION CAROLINA"
   ]
  },
  {
   "cell_type": "code",
   "execution_count": 1,
   "id": "ab6d6d86",
   "metadata": {},
   "outputs": [],
   "source": [
    "#Librerias\n",
    "import numpy as np\n",
    "import pandas as pd\n",
    "import scipy.stats as st\n",
    "from datetime import date\n",
    "import matplotlib.pyplot as plt\n",
    "import seaborn as sns; sns.set()\n",
    "import pandas_datareader.data as web\n",
    "%matplotlib inline"
   ]
  },
  {
   "cell_type": "code",
   "execution_count": 2,
   "id": "f15d0bdc",
   "metadata": {},
   "outputs": [],
   "source": [
    "# Función para descargar precios de cierre ajustados:\n",
    "def get_adj_closes(tickers, start_date = None, end_date = None):\n",
    "    closes = web.DataReader(name = tickers, data_source = \"yahoo\", start = start_date, end = end_date)\n",
    "    closes = closes[\"Adj Close\"]\n",
    "    closes.sort_index(inplace = True)\n",
    "    return closes"
   ]
  },
  {
   "cell_type": "code",
   "execution_count": 3,
   "id": "491dc84b",
   "metadata": {},
   "outputs": [],
   "source": [
    "# Función que calcula el rendimiento logarítmico diario\n",
    "def calc_daily_ret(closes):\n",
    "    return np.log(closes / closes.shift(1)).dropna()"
   ]
  },
  {
   "cell_type": "code",
   "execution_count": 4,
   "id": "73b12570",
   "metadata": {},
   "outputs": [
    {
     "data": {
      "text/plain": [
       "Date\n",
       "2017-01-03     58.185520\n",
       "2017-01-04     57.925179\n",
       "2017-01-05     57.925179\n",
       "2017-01-06     58.427258\n",
       "2017-01-09     58.241310\n",
       "                 ...    \n",
       "2021-11-19    343.109985\n",
       "2021-11-22    339.829987\n",
       "2021-11-23    337.679993\n",
       "2021-11-24    337.910004\n",
       "2021-11-26    329.679993\n",
       "Name: MSFT, Length: 1235, dtype: float64"
      ]
     },
     "execution_count": 4,
     "metadata": {},
     "output_type": "execute_result"
    }
   ],
   "source": [
    "closes = get_adj_closes(['MSFT'], '2017-01-01')\n",
    "closes_msft = closes.loc[:,'MSFT']\n",
    "closes_msft"
   ]
  },
  {
   "cell_type": "code",
   "execution_count": 5,
   "id": "3053b3a8",
   "metadata": {},
   "outputs": [
    {
     "data": {
      "image/png": "[encoded data removed]",
      "text/plain": [
       "<Figure size 576x432 with 1 Axes>"
      ]
     },
     "metadata": {
      "needs_background": "light"
     },
     "output_type": "display_data"
    }
   ],
   "source": [
    "closes = get_adj_closes([\"MSFT\"], \"2017-01-01\") # inicia el primer día del año 2017\n",
    "closes_msft = closes.loc[:, \"MSFT\"] \n",
    "ret_msft = calc_daily_ret(closes_msft)\n",
    "plt.figure(figsize = [8, 6]) \n",
    "plt.plot(closes_msft)\n",
    "plt.title(\"Precios de cierre diarios de Microsoft\")\n",
    "plt.xlabel(\"Fecha\")\n",
    "plt.ylabel(\"Precio ajustado\")\n",
    "plt.show()"
   ]
  },
  {
   "cell_type": "markdown",
   "id": "649c1187",
   "metadata": {},
   "source": [
    "## Valuación de opción Call"
   ]
  },
  {
   "cell_type": "code",
   "execution_count": 6,
   "id": "cb758bfb",
   "metadata": {},
   "outputs": [],
   "source": [
    "import requests\n",
    "\n",
    "def obtener_datos_opciones(symbol):\n",
    "    headers = headers = {\n",
    "            'Connection': 'keep-alive',\n",
    "            'Expires': str(-1),\n",
    "            'Upgrade-Insecure-Requests': str(1),\n",
    "            'User-Agent': 'Mozilla/5.0 (Windows NT 10.0; WOW64) AppleWebKit/537.36 (KHTML, like Gecko) Chrome/54.0.2840.99 Safari/537.36'\n",
    "    }\n",
    "    url = f'https://query1.finance.yahoo.com/v7/finance/options/{symbol}'\n",
    "    r = requests.get(url, headers=headers)\n",
    "    dates = r.json()['optionChain']['result'][0]['expirationDates']\n",
    "    \n",
    "    calls = []\n",
    "    puts = []\n",
    "    \n",
    "    for d in dates:\n",
    "        res = requests.get(url + f'?date={d}', headers=headers)\n",
    "        calls += res.json()['optionChain']['result'][0]['options'][0]['calls']\n",
    "        puts += res.json()['optionChain']['result'][0]['options'][0]['puts']\n",
    "\n",
    "    for c in calls:\n",
    "        c['type'] = 'call'\n",
    "        c['lastTradeDate'] = pd.to_datetime(c['lastTradeDate']*1000000000)\n",
    "        c['expiration'] = pd.to_datetime(c['expiration']*1000000000)\n",
    "    for p in puts:\n",
    "        p['type'] = 'put'\n",
    "        p['lastTradeDate'] = pd.to_datetime(p['lastTradeDate']*1000000000)\n",
    "        p['expiration'] = pd.to_datetime(p['expiration']*1000000000)\n",
    "    \n",
    "    return pd.DataFrame(calls + puts)"
   ]
  },
  {
   "cell_type": "code",
   "execution_count": 7,
   "id": "0f279f29",
   "metadata": {},
   "outputs": [
    {
     "data": {
      "text/html": [
       "<div>\n",
       "<style scoped>\n",
       "    .dataframe tbody tr th:only-of-type {\n",
       "        vertical-align: middle;\n",
       "    }\n",
       "\n",
       "    .dataframe tbody tr th {\n",
       "        vertical-align: top;\n",
       "    }\n",
       "\n",
       "    .dataframe thead th {\n",
       "        text-align: right;\n",
       "    }\n",
       "</style>\n",
       "<table border=\"1\" class=\"dataframe\">\n",
       "  <thead>\n",
       "    <tr style=\"text-align: right;\">\n",
       "      <th></th>\n",
       "      <th>contractSymbol</th>\n",
       "      <th>strike</th>\n",
       "      <th>currency</th>\n",
       "      <th>lastPrice</th>\n",
       "      <th>change</th>\n",
       "      <th>percentChange</th>\n",
       "      <th>volume</th>\n",
       "      <th>openInterest</th>\n",
       "      <th>bid</th>\n",
       "      <th>ask</th>\n",
       "      <th>contractSize</th>\n",
       "      <th>expiration</th>\n",
       "      <th>lastTradeDate</th>\n",
       "      <th>impliedVolatility</th>\n",
       "      <th>inTheMoney</th>\n",
       "      <th>type</th>\n",
       "    </tr>\n",
       "  </thead>\n",
       "  <tbody>\n",
       "    <tr>\n",
       "      <th>0</th>\n",
       "      <td>MSFT211203C00225000</td>\n",
       "      <td>225.0</td>\n",
       "      <td>USD</td>\n",
       "      <td>105.14</td>\n",
       "      <td>0.000000</td>\n",
       "      <td>0.000000</td>\n",
       "      <td>8.0</td>\n",
       "      <td>7.0</td>\n",
       "      <td>103.3</td>\n",
       "      <td>106.80</td>\n",
       "      <td>REGULAR</td>\n",
       "      <td>2021-12-03</td>\n",
       "      <td>2021-10-29 18:39:47</td>\n",
       "      <td>1.342777</td>\n",
       "      <td>True</td>\n",
       "      <td>call</td>\n",
       "    </tr>\n",
       "    <tr>\n",
       "      <th>1</th>\n",
       "      <td>MSFT211203C00230000</td>\n",
       "      <td>230.0</td>\n",
       "      <td>USD</td>\n",
       "      <td>110.75</td>\n",
       "      <td>0.000000</td>\n",
       "      <td>0.000000</td>\n",
       "      <td>NaN</td>\n",
       "      <td>4.0</td>\n",
       "      <td>98.3</td>\n",
       "      <td>101.80</td>\n",
       "      <td>REGULAR</td>\n",
       "      <td>2021-12-03</td>\n",
       "      <td>2021-11-17 16:18:26</td>\n",
       "      <td>1.274418</td>\n",
       "      <td>True</td>\n",
       "      <td>call</td>\n",
       "    </tr>\n",
       "    <tr>\n",
       "      <th>2</th>\n",
       "      <td>MSFT211203C00235000</td>\n",
       "      <td>235.0</td>\n",
       "      <td>USD</td>\n",
       "      <td>100.55</td>\n",
       "      <td>0.000000</td>\n",
       "      <td>0.000000</td>\n",
       "      <td>3.0</td>\n",
       "      <td>5.0</td>\n",
       "      <td>93.3</td>\n",
       "      <td>96.80</td>\n",
       "      <td>REGULAR</td>\n",
       "      <td>2021-12-03</td>\n",
       "      <td>2021-11-24 16:10:58</td>\n",
       "      <td>1.208012</td>\n",
       "      <td>True</td>\n",
       "      <td>call</td>\n",
       "    </tr>\n",
       "    <tr>\n",
       "      <th>3</th>\n",
       "      <td>MSFT211203C00240000</td>\n",
       "      <td>240.0</td>\n",
       "      <td>USD</td>\n",
       "      <td>91.45</td>\n",
       "      <td>-8.900002</td>\n",
       "      <td>-8.868960</td>\n",
       "      <td>5.0</td>\n",
       "      <td>9.0</td>\n",
       "      <td>88.3</td>\n",
       "      <td>91.80</td>\n",
       "      <td>REGULAR</td>\n",
       "      <td>2021-12-03</td>\n",
       "      <td>2021-11-26 17:18:56</td>\n",
       "      <td>1.142582</td>\n",
       "      <td>True</td>\n",
       "      <td>call</td>\n",
       "    </tr>\n",
       "    <tr>\n",
       "      <th>4</th>\n",
       "      <td>MSFT211203C00245000</td>\n",
       "      <td>245.0</td>\n",
       "      <td>USD</td>\n",
       "      <td>86.35</td>\n",
       "      <td>-4.200005</td>\n",
       "      <td>-4.638326</td>\n",
       "      <td>5.0</td>\n",
       "      <td>17.0</td>\n",
       "      <td>83.3</td>\n",
       "      <td>86.85</td>\n",
       "      <td>REGULAR</td>\n",
       "      <td>2021-12-03</td>\n",
       "      <td>2021-11-26 17:18:53</td>\n",
       "      <td>1.088872</td>\n",
       "      <td>True</td>\n",
       "      <td>call</td>\n",
       "    </tr>\n",
       "    <tr>\n",
       "      <th>...</th>\n",
       "      <td>...</td>\n",
       "      <td>...</td>\n",
       "      <td>...</td>\n",
       "      <td>...</td>\n",
       "      <td>...</td>\n",
       "      <td>...</td>\n",
       "      <td>...</td>\n",
       "      <td>...</td>\n",
       "      <td>...</td>\n",
       "      <td>...</td>\n",
       "      <td>...</td>\n",
       "      <td>...</td>\n",
       "      <td>...</td>\n",
       "      <td>...</td>\n",
       "      <td>...</td>\n",
       "      <td>...</td>\n",
       "    </tr>\n",
       "    <tr>\n",
       "      <th>1861</th>\n",
       "      <td>MSFT240119P00450000</td>\n",
       "      <td>450.0</td>\n",
       "      <td>USD</td>\n",
       "      <td>134.80</td>\n",
       "      <td>9.540001</td>\n",
       "      <td>7.616159</td>\n",
       "      <td>4.0</td>\n",
       "      <td>429.0</td>\n",
       "      <td>133.0</td>\n",
       "      <td>137.50</td>\n",
       "      <td>REGULAR</td>\n",
       "      <td>2024-01-19</td>\n",
       "      <td>2021-11-26 17:52:00</td>\n",
       "      <td>0.261940</td>\n",
       "      <td>True</td>\n",
       "      <td>put</td>\n",
       "    </tr>\n",
       "    <tr>\n",
       "      <th>1862</th>\n",
       "      <td>MSFT240119P00460000</td>\n",
       "      <td>460.0</td>\n",
       "      <td>USD</td>\n",
       "      <td>134.00</td>\n",
       "      <td>0.000000</td>\n",
       "      <td>0.000000</td>\n",
       "      <td>1.0</td>\n",
       "      <td>1.0</td>\n",
       "      <td>141.5</td>\n",
       "      <td>146.00</td>\n",
       "      <td>REGULAR</td>\n",
       "      <td>2024-01-19</td>\n",
       "      <td>2021-11-18 15:52:34</td>\n",
       "      <td>0.262047</td>\n",
       "      <td>True</td>\n",
       "      <td>put</td>\n",
       "    </tr>\n",
       "    <tr>\n",
       "      <th>1863</th>\n",
       "      <td>MSFT240119P00470000</td>\n",
       "      <td>470.0</td>\n",
       "      <td>USD</td>\n",
       "      <td>147.05</td>\n",
       "      <td>0.000000</td>\n",
       "      <td>0.000000</td>\n",
       "      <td>NaN</td>\n",
       "      <td>1.0</td>\n",
       "      <td>150.0</td>\n",
       "      <td>154.50</td>\n",
       "      <td>REGULAR</td>\n",
       "      <td>2024-01-19</td>\n",
       "      <td>2021-11-03 13:44:50</td>\n",
       "      <td>0.261284</td>\n",
       "      <td>True</td>\n",
       "      <td>put</td>\n",
       "    </tr>\n",
       "    <tr>\n",
       "      <th>1864</th>\n",
       "      <td>MSFT240119P00480000</td>\n",
       "      <td>480.0</td>\n",
       "      <td>USD</td>\n",
       "      <td>160.50</td>\n",
       "      <td>0.000000</td>\n",
       "      <td>0.000000</td>\n",
       "      <td>1.0</td>\n",
       "      <td>4.0</td>\n",
       "      <td>158.5</td>\n",
       "      <td>163.00</td>\n",
       "      <td>REGULAR</td>\n",
       "      <td>2024-01-19</td>\n",
       "      <td>2021-11-01 15:33:14</td>\n",
       "      <td>0.259605</td>\n",
       "      <td>True</td>\n",
       "      <td>put</td>\n",
       "    </tr>\n",
       "    <tr>\n",
       "      <th>1865</th>\n",
       "      <td>MSFT240119P00500000</td>\n",
       "      <td>500.0</td>\n",
       "      <td>USD</td>\n",
       "      <td>166.22</td>\n",
       "      <td>0.000000</td>\n",
       "      <td>0.000000</td>\n",
       "      <td>1.0</td>\n",
       "      <td>2.0</td>\n",
       "      <td>176.0</td>\n",
       "      <td>181.00</td>\n",
       "      <td>REGULAR</td>\n",
       "      <td>2024-01-19</td>\n",
       "      <td>2021-11-18 16:48:04</td>\n",
       "      <td>0.261085</td>\n",
       "      <td>True</td>\n",
       "      <td>put</td>\n",
       "    </tr>\n",
       "  </tbody>\n",
       "</table>\n",
       "<p>1866 rows × 16 columns</p>\n",
       "</div>"
      ],
      "text/plain": [
       "           contractSymbol  strike currency  lastPrice    change  \\\n",
       "0     MSFT211203C00225000   225.0      USD     105.14  0.000000   \n",
       "1     MSFT211203C00230000   230.0      USD     110.75  0.000000   \n",
       "2     MSFT211203C00235000   235.0      USD     100.55  0.000000   \n",
       "3     MSFT211203C00240000   240.0      USD      91.45 -8.900002   \n",
       "4     MSFT211203C00245000   245.0      USD      86.35 -4.200005   \n",
       "...                   ...     ...      ...        ...       ...   \n",
       "1861  MSFT240119P00450000   450.0      USD     134.80  9.540001   \n",
       "1862  MSFT240119P00460000   460.0      USD     134.00  0.000000   \n",
       "1863  MSFT240119P00470000   470.0      USD     147.05  0.000000   \n",
       "1864  MSFT240119P00480000   480.0      USD     160.50  0.000000   \n",
       "1865  MSFT240119P00500000   500.0      USD     166.22  0.000000   \n",
       "\n",
       "      percentChange  volume  openInterest    bid     ask contractSize  \\\n",
       "0          0.000000     8.0           7.0  103.3  106.80      REGULAR   \n",
       "1          0.000000     NaN           4.0   98.3  101.80      REGULAR   \n",
       "2          0.000000     3.0           5.0   93.3   96.80      REGULAR   \n",
       "3         -8.868960     5.0           9.0   88.3   91.80      REGULAR   \n",
       "4         -4.638326     5.0          17.0   83.3   86.85      REGULAR   \n",
       "...             ...     ...           ...    ...     ...          ...   \n",
       "1861       7.616159     4.0         429.0  133.0  137.50      REGULAR   \n",
       "1862       0.000000     1.0           1.0  141.5  146.00      REGULAR   \n",
       "1863       0.000000     NaN           1.0  150.0  154.50      REGULAR   \n",
       "1864       0.000000     1.0           4.0  158.5  163.00      REGULAR   \n",
       "1865       0.000000     1.0           2.0  176.0  181.00      REGULAR   \n",
       "\n",
       "     expiration       lastTradeDate  impliedVolatility  inTheMoney  type  \n",
       "0    2021-12-03 2021-10-29 18:39:47           1.342777        True  call  \n",
       "1    2021-12-03 2021-11-17 16:18:26           1.274418        True  call  \n",
       "2    2021-12-03 2021-11-24 16:10:58           1.208012        True  call  \n",
       "3    2021-12-03 2021-11-26 17:18:56           1.142582        True  call  \n",
       "4    2021-12-03 2021-11-26 17:18:53           1.088872        True  call  \n",
       "...         ...                 ...                ...         ...   ...  \n",
       "1861 2024-01-19 2021-11-26 17:52:00           0.261940        True   put  \n",
       "1862 2024-01-19 2021-11-18 15:52:34           0.262047        True   put  \n",
       "1863 2024-01-19 2021-11-03 13:44:50           0.261284        True   put  \n",
       "1864 2024-01-19 2021-11-01 15:33:14           0.259605        True   put  \n",
       "1865 2024-01-19 2021-11-18 16:48:04           0.261085        True   put  \n",
       "\n",
       "[1866 rows x 16 columns]"
      ]
     },
     "execution_count": 7,
     "metadata": {},
     "output_type": "execute_result"
    }
   ],
   "source": [
    "opciones_msft = obtener_datos_opciones('MSFT')\n",
    "opciones_msft\n"
   ]
  },
  {
   "cell_type": "code",
   "execution_count": 8,
   "id": "3c840006",
   "metadata": {},
   "outputs": [
    {
     "data": {
      "text/html": [
       "<div>\n",
       "<style scoped>\n",
       "    .dataframe tbody tr th:only-of-type {\n",
       "        vertical-align: middle;\n",
       "    }\n",
       "\n",
       "    .dataframe tbody tr th {\n",
       "        vertical-align: top;\n",
       "    }\n",
       "\n",
       "    .dataframe thead th {\n",
       "        text-align: right;\n",
       "    }\n",
       "</style>\n",
       "<table border=\"1\" class=\"dataframe\">\n",
       "  <thead>\n",
       "    <tr style=\"text-align: right;\">\n",
       "      <th></th>\n",
       "      <th>contractSymbol</th>\n",
       "      <th>strike</th>\n",
       "      <th>currency</th>\n",
       "      <th>lastPrice</th>\n",
       "      <th>change</th>\n",
       "      <th>percentChange</th>\n",
       "      <th>volume</th>\n",
       "      <th>openInterest</th>\n",
       "      <th>bid</th>\n",
       "      <th>ask</th>\n",
       "      <th>contractSize</th>\n",
       "      <th>lastTradeDate</th>\n",
       "      <th>impliedVolatility</th>\n",
       "      <th>inTheMoney</th>\n",
       "      <th>type</th>\n",
       "    </tr>\n",
       "    <tr>\n",
       "      <th>expiration</th>\n",
       "      <th></th>\n",
       "      <th></th>\n",
       "      <th></th>\n",
       "      <th></th>\n",
       "      <th></th>\n",
       "      <th></th>\n",
       "      <th></th>\n",
       "      <th></th>\n",
       "      <th></th>\n",
       "      <th></th>\n",
       "      <th></th>\n",
       "      <th></th>\n",
       "      <th></th>\n",
       "      <th></th>\n",
       "      <th></th>\n",
       "    </tr>\n",
       "  </thead>\n",
       "  <tbody>\n",
       "    <tr>\n",
       "      <th>2024-01-19</th>\n",
       "      <td>MSFT240119C00145000</td>\n",
       "      <td>145.0</td>\n",
       "      <td>USD</td>\n",
       "      <td>188.00</td>\n",
       "      <td>-6.00</td>\n",
       "      <td>-3.092783</td>\n",
       "      <td>2.0</td>\n",
       "      <td>85.0</td>\n",
       "      <td>186.5</td>\n",
       "      <td>191.0</td>\n",
       "      <td>REGULAR</td>\n",
       "      <td>2021-11-24 19:12:09</td>\n",
       "      <td>0.435247</td>\n",
       "      <td>True</td>\n",
       "      <td>call</td>\n",
       "    </tr>\n",
       "    <tr>\n",
       "      <th>2024-01-19</th>\n",
       "      <td>MSFT240119C00150000</td>\n",
       "      <td>150.0</td>\n",
       "      <td>USD</td>\n",
       "      <td>196.75</td>\n",
       "      <td>0.00</td>\n",
       "      <td>0.000000</td>\n",
       "      <td>2.0</td>\n",
       "      <td>137.0</td>\n",
       "      <td>182.0</td>\n",
       "      <td>186.5</td>\n",
       "      <td>REGULAR</td>\n",
       "      <td>2021-11-22 17:17:38</td>\n",
       "      <td>0.428839</td>\n",
       "      <td>True</td>\n",
       "      <td>call</td>\n",
       "    </tr>\n",
       "    <tr>\n",
       "      <th>2024-01-19</th>\n",
       "      <td>MSFT240119C00155000</td>\n",
       "      <td>155.0</td>\n",
       "      <td>USD</td>\n",
       "      <td>183.89</td>\n",
       "      <td>0.00</td>\n",
       "      <td>0.000000</td>\n",
       "      <td>4.0</td>\n",
       "      <td>16.0</td>\n",
       "      <td>177.5</td>\n",
       "      <td>182.0</td>\n",
       "      <td>REGULAR</td>\n",
       "      <td>2021-11-15 14:32:36</td>\n",
       "      <td>0.422155</td>\n",
       "      <td>True</td>\n",
       "      <td>call</td>\n",
       "    </tr>\n",
       "    <tr>\n",
       "      <th>2024-01-19</th>\n",
       "      <td>MSFT240119C00160000</td>\n",
       "      <td>160.0</td>\n",
       "      <td>USD</td>\n",
       "      <td>179.40</td>\n",
       "      <td>0.00</td>\n",
       "      <td>0.000000</td>\n",
       "      <td>1.0</td>\n",
       "      <td>114.0</td>\n",
       "      <td>173.0</td>\n",
       "      <td>177.5</td>\n",
       "      <td>REGULAR</td>\n",
       "      <td>2021-11-23 15:43:44</td>\n",
       "      <td>0.415259</td>\n",
       "      <td>True</td>\n",
       "      <td>call</td>\n",
       "    </tr>\n",
       "    <tr>\n",
       "      <th>2024-01-19</th>\n",
       "      <td>MSFT240119C00165000</td>\n",
       "      <td>165.0</td>\n",
       "      <td>USD</td>\n",
       "      <td>183.00</td>\n",
       "      <td>0.00</td>\n",
       "      <td>0.000000</td>\n",
       "      <td>1.0</td>\n",
       "      <td>422.0</td>\n",
       "      <td>168.5</td>\n",
       "      <td>173.5</td>\n",
       "      <td>REGULAR</td>\n",
       "      <td>2021-11-19 19:47:34</td>\n",
       "      <td>0.415564</td>\n",
       "      <td>True</td>\n",
       "      <td>call</td>\n",
       "    </tr>\n",
       "    <tr>\n",
       "      <th>...</th>\n",
       "      <td>...</td>\n",
       "      <td>...</td>\n",
       "      <td>...</td>\n",
       "      <td>...</td>\n",
       "      <td>...</td>\n",
       "      <td>...</td>\n",
       "      <td>...</td>\n",
       "      <td>...</td>\n",
       "      <td>...</td>\n",
       "      <td>...</td>\n",
       "      <td>...</td>\n",
       "      <td>...</td>\n",
       "      <td>...</td>\n",
       "      <td>...</td>\n",
       "      <td>...</td>\n",
       "    </tr>\n",
       "    <tr>\n",
       "      <th>2024-01-19</th>\n",
       "      <td>MSFT240119C00460000</td>\n",
       "      <td>460.0</td>\n",
       "      <td>USD</td>\n",
       "      <td>19.19</td>\n",
       "      <td>0.00</td>\n",
       "      <td>0.000000</td>\n",
       "      <td>56.0</td>\n",
       "      <td>334.0</td>\n",
       "      <td>18.0</td>\n",
       "      <td>21.0</td>\n",
       "      <td>REGULAR</td>\n",
       "      <td>2021-11-24 16:38:38</td>\n",
       "      <td>0.294746</td>\n",
       "      <td>False</td>\n",
       "      <td>call</td>\n",
       "    </tr>\n",
       "    <tr>\n",
       "      <th>2024-01-19</th>\n",
       "      <td>MSFT240119C00470000</td>\n",
       "      <td>470.0</td>\n",
       "      <td>USD</td>\n",
       "      <td>17.50</td>\n",
       "      <td>1.00</td>\n",
       "      <td>6.060606</td>\n",
       "      <td>3.0</td>\n",
       "      <td>207.0</td>\n",
       "      <td>13.5</td>\n",
       "      <td>18.5</td>\n",
       "      <td>REGULAR</td>\n",
       "      <td>2021-11-26 17:39:45</td>\n",
       "      <td>0.288841</td>\n",
       "      <td>False</td>\n",
       "      <td>call</td>\n",
       "    </tr>\n",
       "    <tr>\n",
       "      <th>2024-01-19</th>\n",
       "      <td>MSFT240119C00480000</td>\n",
       "      <td>480.0</td>\n",
       "      <td>USD</td>\n",
       "      <td>15.26</td>\n",
       "      <td>0.77</td>\n",
       "      <td>5.314013</td>\n",
       "      <td>1.0</td>\n",
       "      <td>498.0</td>\n",
       "      <td>14.0</td>\n",
       "      <td>17.5</td>\n",
       "      <td>REGULAR</td>\n",
       "      <td>2021-11-26 14:41:06</td>\n",
       "      <td>0.291534</td>\n",
       "      <td>False</td>\n",
       "      <td>call</td>\n",
       "    </tr>\n",
       "    <tr>\n",
       "      <th>2024-01-19</th>\n",
       "      <td>MSFT240119C00490000</td>\n",
       "      <td>490.0</td>\n",
       "      <td>USD</td>\n",
       "      <td>13.20</td>\n",
       "      <td>0.00</td>\n",
       "      <td>0.000000</td>\n",
       "      <td>42.0</td>\n",
       "      <td>184.0</td>\n",
       "      <td>11.0</td>\n",
       "      <td>16.0</td>\n",
       "      <td>REGULAR</td>\n",
       "      <td>2021-11-24 17:03:59</td>\n",
       "      <td>0.290336</td>\n",
       "      <td>False</td>\n",
       "      <td>call</td>\n",
       "    </tr>\n",
       "    <tr>\n",
       "      <th>2024-01-19</th>\n",
       "      <td>MSFT240119C00500000</td>\n",
       "      <td>500.0</td>\n",
       "      <td>USD</td>\n",
       "      <td>12.80</td>\n",
       "      <td>-0.20</td>\n",
       "      <td>-1.538460</td>\n",
       "      <td>16.0</td>\n",
       "      <td>896.0</td>\n",
       "      <td>10.1</td>\n",
       "      <td>14.5</td>\n",
       "      <td>REGULAR</td>\n",
       "      <td>2021-11-26 17:54:23</td>\n",
       "      <td>0.288352</td>\n",
       "      <td>False</td>\n",
       "      <td>call</td>\n",
       "    </tr>\n",
       "  </tbody>\n",
       "</table>\n",
       "<p>66 rows × 15 columns</p>\n",
       "</div>"
      ],
      "text/plain": [
       "                 contractSymbol  strike currency  lastPrice  change  \\\n",
       "expiration                                                            \n",
       "2024-01-19  MSFT240119C00145000   145.0      USD     188.00   -6.00   \n",
       "2024-01-19  MSFT240119C00150000   150.0      USD     196.75    0.00   \n",
       "2024-01-19  MSFT240119C00155000   155.0      USD     183.89    0.00   \n",
       "2024-01-19  MSFT240119C00160000   160.0      USD     179.40    0.00   \n",
       "2024-01-19  MSFT240119C00165000   165.0      USD     183.00    0.00   \n",
       "...                         ...     ...      ...        ...     ...   \n",
       "2024-01-19  MSFT240119C00460000   460.0      USD      19.19    0.00   \n",
       "2024-01-19  MSFT240119C00470000   470.0      USD      17.50    1.00   \n",
       "2024-01-19  MSFT240119C00480000   480.0      USD      15.26    0.77   \n",
       "2024-01-19  MSFT240119C00490000   490.0      USD      13.20    0.00   \n",
       "2024-01-19  MSFT240119C00500000   500.0      USD      12.80   -0.20   \n",
       "\n",
       "            percentChange  volume  openInterest    bid    ask contractSize  \\\n",
       "expiration                                                                   \n",
       "2024-01-19      -3.092783     2.0          85.0  186.5  191.0      REGULAR   \n",
       "2024-01-19       0.000000     2.0         137.0  182.0  186.5      REGULAR   \n",
       "2024-01-19       0.000000     4.0          16.0  177.5  182.0      REGULAR   \n",
       "2024-01-19       0.000000     1.0         114.0  173.0  177.5      REGULAR   \n",
       "2024-01-19       0.000000     1.0         422.0  168.5  173.5      REGULAR   \n",
       "...                   ...     ...           ...    ...    ...          ...   \n",
       "2024-01-19       0.000000    56.0         334.0   18.0   21.0      REGULAR   \n",
       "2024-01-19       6.060606     3.0         207.0   13.5   18.5      REGULAR   \n",
       "2024-01-19       5.314013     1.0         498.0   14.0   17.5      REGULAR   \n",
       "2024-01-19       0.000000    42.0         184.0   11.0   16.0      REGULAR   \n",
       "2024-01-19      -1.538460    16.0         896.0   10.1   14.5      REGULAR   \n",
       "\n",
       "                 lastTradeDate  impliedVolatility  inTheMoney  type  \n",
       "expiration                                                           \n",
       "2024-01-19 2021-11-24 19:12:09           0.435247        True  call  \n",
       "2024-01-19 2021-11-22 17:17:38           0.428839        True  call  \n",
       "2024-01-19 2021-11-15 14:32:36           0.422155        True  call  \n",
       "2024-01-19 2021-11-23 15:43:44           0.415259        True  call  \n",
       "2024-01-19 2021-11-19 19:47:34           0.415564        True  call  \n",
       "...                        ...                ...         ...   ...  \n",
       "2024-01-19 2021-11-24 16:38:38           0.294746       False  call  \n",
       "2024-01-19 2021-11-26 17:39:45           0.288841       False  call  \n",
       "2024-01-19 2021-11-26 14:41:06           0.291534       False  call  \n",
       "2024-01-19 2021-11-24 17:03:59           0.290336       False  call  \n",
       "2024-01-19 2021-11-26 17:54:23           0.288352       False  call  \n",
       "\n",
       "[66 rows x 15 columns]"
      ]
     },
     "execution_count": 8,
     "metadata": {},
     "output_type": "execute_result"
    }
   ],
   "source": [
    "indice_opt = opciones_msft.loc[(opciones_msft.type == \"call\") & (opciones_msft.expiration == \"2024-01-19\")].set_index(\"expiration\")\n",
    "indice_opt "
   ]
  },
  {
   "cell_type": "code",
   "execution_count": 9,
   "id": "ba0551a5",
   "metadata": {},
   "outputs": [
    {
     "data": {
      "image/png": "[encoded data removed]",
      "text/plain": [
       "<Figure size 576x432 with 1 Axes>"
      ]
     },
     "metadata": {
      "needs_background": "light"
     },
     "output_type": "display_data"
    }
   ],
   "source": [
    "plt.figure(figsize = [8, 6]) # gráfica de sonrisa de volatilidad implícita\n",
    "plt.plot(indice_opt.set_index(\"strike\").loc[:, \"impliedVolatility\"])\n",
    "plt.title(\"Sonrisa de volatilidad implícita de calls de Microsoft\")\n",
    "plt.xlabel(\"Strike\")\n",
    "plt.ylabel(\"Volalitidad implícita\")\n",
    "plt.axvline(closes_msft.iloc[-1]) #329.67\n",
    "plt.show()"
   ]
  },
  {
   "cell_type": "code",
   "execution_count": 10,
   "id": "4bb699ea",
   "metadata": {},
   "outputs": [
    {
     "name": "stdout",
     "output_type": "stream",
     "text": [
      "El precio del activo el dia de hoy es de 329.67999267578125.\n"
     ]
    }
   ],
   "source": [
    "print(\"El precio del activo el dia de hoy es de \" + str(closes_msft.iloc[-1]) + \".\") "
   ]
  },
  {
   "cell_type": "code",
   "execution_count": 11,
   "id": "47657546",
   "metadata": {},
   "outputs": [
    {
     "data": {
      "text/html": [
       "<div>\n",
       "<style scoped>\n",
       "    .dataframe tbody tr th:only-of-type {\n",
       "        vertical-align: middle;\n",
       "    }\n",
       "\n",
       "    .dataframe tbody tr th {\n",
       "        vertical-align: top;\n",
       "    }\n",
       "\n",
       "    .dataframe thead th {\n",
       "        text-align: right;\n",
       "    }\n",
       "</style>\n",
       "<table border=\"1\" class=\"dataframe\">\n",
       "  <thead>\n",
       "    <tr style=\"text-align: right;\">\n",
       "      <th></th>\n",
       "      <th>contractSymbol</th>\n",
       "      <th>strike</th>\n",
       "      <th>currency</th>\n",
       "      <th>lastPrice</th>\n",
       "      <th>change</th>\n",
       "      <th>percentChange</th>\n",
       "      <th>volume</th>\n",
       "      <th>openInterest</th>\n",
       "      <th>bid</th>\n",
       "      <th>ask</th>\n",
       "      <th>contractSize</th>\n",
       "      <th>expiration</th>\n",
       "      <th>lastTradeDate</th>\n",
       "      <th>impliedVolatility</th>\n",
       "      <th>inTheMoney</th>\n",
       "      <th>type</th>\n",
       "    </tr>\n",
       "  </thead>\n",
       "  <tbody>\n",
       "    <tr>\n",
       "      <th>972</th>\n",
       "      <td>MSFT240119C00375000</td>\n",
       "      <td>375.0</td>\n",
       "      <td>USD</td>\n",
       "      <td>39.48</td>\n",
       "      <td>-1.170002</td>\n",
       "      <td>-2.878234</td>\n",
       "      <td>2.0</td>\n",
       "      <td>360.0</td>\n",
       "      <td>37.45</td>\n",
       "      <td>40.5</td>\n",
       "      <td>REGULAR</td>\n",
       "      <td>2024-01-19</td>\n",
       "      <td>2021-11-26 16:40:55</td>\n",
       "      <td>0.296157</td>\n",
       "      <td>False</td>\n",
       "      <td>call</td>\n",
       "    </tr>\n",
       "  </tbody>\n",
       "</table>\n",
       "</div>"
      ],
      "text/plain": [
       "          contractSymbol  strike currency  lastPrice    change  percentChange  \\\n",
       "972  MSFT240119C00375000   375.0      USD      39.48 -1.170002      -2.878234   \n",
       "\n",
       "     volume  openInterest    bid   ask contractSize expiration  \\\n",
       "972     2.0         360.0  37.45  40.5      REGULAR 2024-01-19   \n",
       "\n",
       "          lastTradeDate  impliedVolatility  inTheMoney  type  \n",
       "972 2021-11-26 16:40:55           0.296157       False  call  "
      ]
     },
     "execution_count": 11,
     "metadata": {},
     "output_type": "execute_result"
    }
   ],
   "source": [
    "opt_deseada = opciones_msft.loc[(opciones_msft.type == \"call\") & (opciones_msft.strike == 375) & (opciones_msft.expiration == \"2024-01-19\")]\n",
    "opt_deseada # defino mi strike de 375, debe ser más alto que el spot price"
   ]
  },
  {
   "cell_type": "markdown",
   "id": "56025f6c",
   "metadata": {},
   "source": [
    "### Simulación con modelo de rendimientos normales\n",
    "\n",
    "Se realiza una comparaciónde una call europea y una call barrera con el modelo de rendimientos normales.\n",
    "\n",
    "La tasa libre de riesgo necesaria para valuar la opción se tomó del bono del tesoro de E. U. A. a dos año.\n",
    "\n",
    "Se definió una barrera de 300 ya que se sabe que esta debe ser menor al spot price."
   ]
  },
  {
   "cell_type": "code",
   "execution_count": 12,
   "id": "9b690332",
   "metadata": {},
   "outputs": [],
   "source": [
    "opt_valuar = opt_deseada.loc[list(opt_deseada.index)[0]]\n",
    "mu = ret_msft.mean() \n",
    "sigma = ret_msft.std() \n",
    "r = 0.005 / 360 \n",
    "today = pd.Timestamp(date.today()) \n",
    "expiry = opt_valuar.expiration\n",
    "dates = pd.date_range(start = today, end = expiry, freq = \"B\") \n",
    "ndays = len(dates) \n",
    "nscen = 100000 \n",
    "K = opt_valuar.strike\n",
    "S0 = closes_msft.iloc[-1] \n",
    "sim_ret = pd.DataFrame(sigma * np.random.randn(ndays, nscen) + r, index = dates) \n",
    "sim_closes = S0 * np.exp(sim_ret.cumsum()) \n",
    "strike = K \n",
    "call = pd.DataFrame({\"Prima europea\": np.exp(-r * ndays) * np.fmax(sim_closes - strike, 0).mean(axis = 1)}, index = dates)\n",
    "pd.set_option(\"display.max_columns\", 15)\n",
    "B = 300\n",
    "I = (sim_closes > B).cumprod(axis = 0) > 0 \n",
    "calldo_norm = pd.DataFrame({\"Prima down-and-out\": np.exp(-r * ndays) * (I * np.fmax(sim_closes - strike, \n",
    "                                                                                    0)).mean(axis = 1)}, index = dates) "
   ]
  },
  {
   "cell_type": "code",
   "execution_count": 13,
   "id": "ab6b4df1",
   "metadata": {},
   "outputs": [
    {
     "data": {
      "image/png": "[encoded data removed]",
      "text/plain": [
       "<Figure size 1080x504 with 1 Axes>"
      ]
     },
     "metadata": {
      "needs_background": "light"
     },
     "output_type": "display_data"
    }
   ],
   "source": [
    "plt.figure(figsize = [15, 7]) # gráfica de simulación con rendimientos normales de call europea y down and out\n",
    "plt.plot(call, color = \"green\", label = \"Opción de compra europea\")\n",
    "plt.plot(calldo_norm, color = \"blue\", label = \"Opción de compra barrera down-and-out\")\n",
    "plt.title(\"Simulación de prima de opciones call de Microsoft con rendimientos normales\", fontsize = 20)\n",
    "plt.xlabel(\"Fecha\", fontsize = 15)\n",
    "plt.ylabel(\"Prima\", fontsize = 15)\n",
    "plt.legend(loc = \"best\")\n",
    "plt.show()"
   ]
  },
  {
   "cell_type": "code",
   "execution_count": 14,
   "id": "9484db29",
   "metadata": {},
   "outputs": [
    {
     "name": "stdout",
     "output_type": "stream",
     "text": [
      "El precio real de la prima del call de Microsot es 39.48.\n"
     ]
    }
   ],
   "source": [
    "print(\"El precio real de la prima del call de Microsot es \" + str(opt_valuar[\"lastPrice\"]) + \".\") "
   ]
  },
  {
   "cell_type": "markdown",
   "id": "c4e2d77e",
   "metadata": {},
   "source": [
    "**Valuación europea**"
   ]
  },
  {
   "cell_type": "code",
   "execution_count": 15,
   "id": "833d12a4",
   "metadata": {},
   "outputs": [
    {
     "data": {
      "text/plain": [
       "Prima europea    52.814239\n",
       "Name: 2024-01-19 00:00:00, dtype: float64"
      ]
     },
     "execution_count": 15,
     "metadata": {},
     "output_type": "execute_result"
    }
   ],
   "source": [
    "call.iloc[-1] # valuación de la prima de call europea en el último día"
   ]
  },
  {
   "cell_type": "code",
   "execution_count": 16,
   "id": "eb3535d3",
   "metadata": {},
   "outputs": [
    {
     "name": "stdout",
     "output_type": "stream",
     "text": [
      "El intervalo de confianza de la valuación del call europeo de Microsoft con el modelo de los rendimientos normales es (51.85412416199797, 53.77435430275405).\n"
     ]
    }
   ],
   "source": [
    "confianza = 0.95 #\n",
    "sigma_est = sim_closes.iloc[-1].sem() \n",
    "mean_est = call.iloc[-1][\"Prima europea\"] \n",
    "i = st.norm.interval(confianza, loc = mean_est, scale = sigma_est) # asumir distribución normal\n",
    "print(\"El intervalo de confianza de la valuación del call europeo de Microsoft con el modelo de los rendimientos normales\" +\n",
    "      \" es \" + str(i) + \".\")"
   ]
  },
  {
   "cell_type": "markdown",
   "id": "37c4293c",
   "metadata": {},
   "source": [
    "El intervalo de confianza de la valuación de la prima europea esta cerca a la prima real, por lo que la simulación con el modelo de rendimientos normales es confiable."
   ]
  },
  {
   "cell_type": "markdown",
   "id": "d47898dd",
   "metadata": {},
   "source": [
    "**Valuación barrera**"
   ]
  },
  {
   "cell_type": "code",
   "execution_count": 17,
   "id": "c2edbfba",
   "metadata": {},
   "outputs": [
    {
     "data": {
      "text/plain": [
       "Prima down-and-out    30.788647\n",
       "Name: 2024-01-19 00:00:00, dtype: float64"
      ]
     },
     "execution_count": 17,
     "metadata": {},
     "output_type": "execute_result"
    }
   ],
   "source": [
    "calldo_norm.iloc[-1] # valuación de la prima de call barrera en el último día"
   ]
  },
  {
   "cell_type": "code",
   "execution_count": 18,
   "id": "067ba63d",
   "metadata": {},
   "outputs": [
    {
     "name": "stdout",
     "output_type": "stream",
     "text": [
      "El intervalo de confianza de la valuación del call down-and-out de Microsoft con el modelo de los rendimientos normales es (29.828532390209094, 31.748762530965177).\n"
     ]
    }
   ],
   "source": [
    "mean_est = calldo_norm.iloc[-1][\"Prima down-and-out\"] \n",
    "i = st.norm.interval(confianza, loc = mean_est, scale = sigma_est) \n",
    "print(\"El intervalo de confianza de la valuación del call down-and-out de Microsoft con el modelo de los rendimientos\" +\n",
    "      \" normales es \" + str(i) + \".\")"
   ]
  },
  {
   "cell_type": "markdown",
   "id": "25a5d746",
   "metadata": {},
   "source": [
    "El invervalo de confianza de la valuación de la prima barrera con el modelo de rendimientos normales se acerca aún más a la prima real que la europea. Tiene sentido que la prima del call down-and-out dé más baja debido a que el riesgo con ese tipo de opciones siempre es un poco mayor (si la barrera es más alta hay más probabilidad de que la opción se desactive, el riesgo sea mayor y la prima más barata)"
   ]
  },
  {
   "cell_type": "markdown",
   "id": "e99e2220",
   "metadata": {},
   "source": [
    "### Simulación con histograma de rendimientos"
   ]
  },
  {
   "cell_type": "code",
   "execution_count": 19,
   "id": "4bc27b49",
   "metadata": {},
   "outputs": [],
   "source": [
    "freq, values = np.histogram(ret_msft - mu + r, bins = 10000) \n",
    "prob = freq / np.sum(freq)\n",
    "ret = np.random.choice(values[1:], (ndays, nscen), p = prob)\n",
    "sim_ret_hist = pd.DataFrame(ret, index = dates) \n",
    "sim_closes_hist = S0 * np.exp(sim_ret_hist.cumsum()) \n",
    "strike = pd.DataFrame(K * np.ones([ndays, nscen]), index = dates) \n",
    "call_hist = pd.DataFrame({\"Prima europea\": np.exp(-r * ndays) * np.fmax(sim_closes_hist - strike, \n",
    "                                                                        np.zeros([ndays, nscen])).T.mean()}, index = dates)\n",
    "calldo_hist = pd.DataFrame({\"Prima down-and-out\": np.exp(-r * ndays) * (I * np.fmax(sim_closes_hist - strike, \n",
    "                                                                                    0)).mean(axis = 1)}, index = dates) "
   ]
  },
  {
   "cell_type": "code",
   "execution_count": 20,
   "id": "c8794c42",
   "metadata": {},
   "outputs": [
    {
     "data": {
      "image/png": "[encoded data removed]",
      "text/plain": [
       "<Figure size 576x432 with 1 Axes>"
      ]
     },
     "metadata": {
      "needs_background": "light"
     },
     "output_type": "display_data"
    }
   ],
   "source": [
    "plt.figure(figsize = [8, 6]) \n",
    "plt.plot(call, label = \"Call europea\")\n",
    "plt.plot(calldo_hist, label = \"Call down-and-out\")\n",
    "plt.title(\"Simulación de prima de opciones call de Microsoft con histograma de rendimientos\")\n",
    "plt.xlabel(\"Fecha\")\n",
    "plt.ylabel(\"Prima\")\n",
    "plt.legend(loc = \"best\")\n",
    "plt.show()"
   ]
  },
  {
   "cell_type": "markdown",
   "id": "e16776f2",
   "metadata": {},
   "source": [
    "**Valuación europea**"
   ]
  },
  {
   "cell_type": "code",
   "execution_count": 21,
   "id": "0297b47d",
   "metadata": {},
   "outputs": [
    {
     "data": {
      "text/plain": [
       "Prima europea    54.537819\n",
       "Name: 2024-01-19 00:00:00, dtype: float64"
      ]
     },
     "execution_count": 21,
     "metadata": {},
     "output_type": "execute_result"
    }
   ],
   "source": [
    "call_hist.iloc[-1] # valuación de la prima de call europea en el último día (al cierre del contrato)"
   ]
  },
  {
   "cell_type": "code",
   "execution_count": 22,
   "id": "f6f50584",
   "metadata": {},
   "outputs": [
    {
     "name": "stdout",
     "output_type": "stream",
     "text": [
      "El intervalo de confianza de la valuación del call europeo de Microsoft con el modelo del histograma de los rendimientos es (53.56950850925494, 55.506129080428956).\n"
     ]
    }
   ],
   "source": [
    "sigma_est = sim_closes_hist.iloc[-1].sem() \n",
    "mean_est = call_hist.iloc[-1][\"Prima europea\"] \n",
    "i = st.norm.interval(confianza, loc = mean_est, scale = sigma_est) \n",
    "print(\"El intervalo de confianza de la valuación del call europeo de Microsoft con el modelo del histograma de los\" +\n",
    "      \" rendimientos es \" + str(i) + \".\")"
   ]
  },
  {
   "cell_type": "markdown",
   "id": "692e4797",
   "metadata": {},
   "source": [
    "El intervalo de confianza de la valuación de la prima europea da cerca a la prima real, por lo que la simulación con el histograma de los rendimientos también es confiable (un poco menos que la valuación con el modelo de rendimientos normales)."
   ]
  },
  {
   "cell_type": "markdown",
   "id": "edf3eddc",
   "metadata": {},
   "source": [
    "**Valuación barrera**"
   ]
  },
  {
   "cell_type": "code",
   "execution_count": 23,
   "id": "bf5f9aaa",
   "metadata": {},
   "outputs": [
    {
     "data": {
      "text/plain": [
       "Prima down-and-out    11.026959\n",
       "Name: 2024-01-19 00:00:00, dtype: float64"
      ]
     },
     "execution_count": 23,
     "metadata": {},
     "output_type": "execute_result"
    }
   ],
   "source": [
    "calldo_hist.iloc[-1] # valuación de la prima de call barrera en el último día (al cierre del contrato)"
   ]
  },
  {
   "cell_type": "code",
   "execution_count": 24,
   "id": "5449c376",
   "metadata": {},
   "outputs": [
    {
     "name": "stdout",
     "output_type": "stream",
     "text": [
      "El intervalo de confianza de la valuación del call down-and-out de Microsoft con el modelo del histograma de los rendimientos es (10.058648906697789, 11.99526947787181).\n"
     ]
    }
   ],
   "source": [
    "mean_est = calldo_hist.iloc[-1][\"Prima down-and-out\"] \n",
    "i = st.norm.interval(confianza, loc = mean_est, scale = sigma_est)\n",
    "print(\"El intervalo de confianza de la valuación del call down-and-out de Microsoft con el modelo del histograma de los\" +\n",
    "      \" rendimientos es \" + str(i) + \".\")"
   ]
  },
  {
   "cell_type": "markdown",
   "id": "9f08167d",
   "metadata": {},
   "source": [
    "La valuación con el histograma de los rendimientos de la call barrera es menor a la valuación real de la opción."
   ]
  },
  {
   "cell_type": "markdown",
   "id": "e799baa1",
   "metadata": {},
   "source": [
    "## Valuación de opción Put"
   ]
  },
  {
   "cell_type": "code",
   "execution_count": 25,
   "id": "087ed49d",
   "metadata": {},
   "outputs": [
    {
     "data": {
      "text/html": [
       "<div>\n",
       "<style scoped>\n",
       "    .dataframe tbody tr th:only-of-type {\n",
       "        vertical-align: middle;\n",
       "    }\n",
       "\n",
       "    .dataframe tbody tr th {\n",
       "        vertical-align: top;\n",
       "    }\n",
       "\n",
       "    .dataframe thead th {\n",
       "        text-align: right;\n",
       "    }\n",
       "</style>\n",
       "<table border=\"1\" class=\"dataframe\">\n",
       "  <thead>\n",
       "    <tr style=\"text-align: right;\">\n",
       "      <th></th>\n",
       "      <th>contractSymbol</th>\n",
       "      <th>strike</th>\n",
       "      <th>currency</th>\n",
       "      <th>lastPrice</th>\n",
       "      <th>change</th>\n",
       "      <th>percentChange</th>\n",
       "      <th>volume</th>\n",
       "      <th>openInterest</th>\n",
       "      <th>bid</th>\n",
       "      <th>ask</th>\n",
       "      <th>contractSize</th>\n",
       "      <th>lastTradeDate</th>\n",
       "      <th>impliedVolatility</th>\n",
       "      <th>inTheMoney</th>\n",
       "      <th>type</th>\n",
       "    </tr>\n",
       "    <tr>\n",
       "      <th>expiration</th>\n",
       "      <th></th>\n",
       "      <th></th>\n",
       "      <th></th>\n",
       "      <th></th>\n",
       "      <th></th>\n",
       "      <th></th>\n",
       "      <th></th>\n",
       "      <th></th>\n",
       "      <th></th>\n",
       "      <th></th>\n",
       "      <th></th>\n",
       "      <th></th>\n",
       "      <th></th>\n",
       "      <th></th>\n",
       "      <th></th>\n",
       "    </tr>\n",
       "  </thead>\n",
       "  <tbody>\n",
       "    <tr>\n",
       "      <th>2024-01-19</th>\n",
       "      <td>MSFT240119P00145000</td>\n",
       "      <td>145.0</td>\n",
       "      <td>USD</td>\n",
       "      <td>3.53</td>\n",
       "      <td>0.520000</td>\n",
       "      <td>17.275747</td>\n",
       "      <td>1494.0</td>\n",
       "      <td>2096.0</td>\n",
       "      <td>2.4</td>\n",
       "      <td>4.00</td>\n",
       "      <td>REGULAR</td>\n",
       "      <td>2021-11-26 17:53:21</td>\n",
       "      <td>0.387793</td>\n",
       "      <td>False</td>\n",
       "      <td>put</td>\n",
       "    </tr>\n",
       "    <tr>\n",
       "      <th>2024-01-19</th>\n",
       "      <td>MSFT240119P00150000</td>\n",
       "      <td>150.0</td>\n",
       "      <td>USD</td>\n",
       "      <td>4.08</td>\n",
       "      <td>0.000000</td>\n",
       "      <td>0.000000</td>\n",
       "      <td>130.0</td>\n",
       "      <td>167.0</td>\n",
       "      <td>2.4</td>\n",
       "      <td>5.45</td>\n",
       "      <td>REGULAR</td>\n",
       "      <td>2021-11-24 14:52:50</td>\n",
       "      <td>0.404028</td>\n",
       "      <td>False</td>\n",
       "      <td>put</td>\n",
       "    </tr>\n",
       "    <tr>\n",
       "      <th>2024-01-19</th>\n",
       "      <td>MSFT240119P00155000</td>\n",
       "      <td>155.0</td>\n",
       "      <td>USD</td>\n",
       "      <td>4.02</td>\n",
       "      <td>0.000000</td>\n",
       "      <td>0.000000</td>\n",
       "      <td>2.0</td>\n",
       "      <td>224.0</td>\n",
       "      <td>2.5</td>\n",
       "      <td>5.50</td>\n",
       "      <td>REGULAR</td>\n",
       "      <td>2021-11-22 18:00:48</td>\n",
       "      <td>0.390570</td>\n",
       "      <td>False</td>\n",
       "      <td>put</td>\n",
       "    </tr>\n",
       "    <tr>\n",
       "      <th>2024-01-19</th>\n",
       "      <td>MSFT240119P00160000</td>\n",
       "      <td>160.0</td>\n",
       "      <td>USD</td>\n",
       "      <td>4.80</td>\n",
       "      <td>0.000000</td>\n",
       "      <td>0.000000</td>\n",
       "      <td>1.0</td>\n",
       "      <td>42.0</td>\n",
       "      <td>3.0</td>\n",
       "      <td>8.00</td>\n",
       "      <td>REGULAR</td>\n",
       "      <td>2021-11-24 14:57:42</td>\n",
       "      <td>0.418615</td>\n",
       "      <td>False</td>\n",
       "      <td>put</td>\n",
       "    </tr>\n",
       "    <tr>\n",
       "      <th>2024-01-19</th>\n",
       "      <td>MSFT240119P00165000</td>\n",
       "      <td>165.0</td>\n",
       "      <td>USD</td>\n",
       "      <td>5.00</td>\n",
       "      <td>0.000000</td>\n",
       "      <td>0.000000</td>\n",
       "      <td>1.0</td>\n",
       "      <td>289.0</td>\n",
       "      <td>3.5</td>\n",
       "      <td>8.50</td>\n",
       "      <td>REGULAR</td>\n",
       "      <td>2021-11-19 18:59:25</td>\n",
       "      <td>0.411383</td>\n",
       "      <td>False</td>\n",
       "      <td>put</td>\n",
       "    </tr>\n",
       "    <tr>\n",
       "      <th>...</th>\n",
       "      <td>...</td>\n",
       "      <td>...</td>\n",
       "      <td>...</td>\n",
       "      <td>...</td>\n",
       "      <td>...</td>\n",
       "      <td>...</td>\n",
       "      <td>...</td>\n",
       "      <td>...</td>\n",
       "      <td>...</td>\n",
       "      <td>...</td>\n",
       "      <td>...</td>\n",
       "      <td>...</td>\n",
       "      <td>...</td>\n",
       "      <td>...</td>\n",
       "      <td>...</td>\n",
       "    </tr>\n",
       "    <tr>\n",
       "      <th>2024-01-19</th>\n",
       "      <td>MSFT240119P00450000</td>\n",
       "      <td>450.0</td>\n",
       "      <td>USD</td>\n",
       "      <td>134.80</td>\n",
       "      <td>9.540001</td>\n",
       "      <td>7.616159</td>\n",
       "      <td>4.0</td>\n",
       "      <td>429.0</td>\n",
       "      <td>133.0</td>\n",
       "      <td>137.50</td>\n",
       "      <td>REGULAR</td>\n",
       "      <td>2021-11-26 17:52:00</td>\n",
       "      <td>0.261940</td>\n",
       "      <td>True</td>\n",
       "      <td>put</td>\n",
       "    </tr>\n",
       "    <tr>\n",
       "      <th>2024-01-19</th>\n",
       "      <td>MSFT240119P00460000</td>\n",
       "      <td>460.0</td>\n",
       "      <td>USD</td>\n",
       "      <td>134.00</td>\n",
       "      <td>0.000000</td>\n",
       "      <td>0.000000</td>\n",
       "      <td>1.0</td>\n",
       "      <td>1.0</td>\n",
       "      <td>141.5</td>\n",
       "      <td>146.00</td>\n",
       "      <td>REGULAR</td>\n",
       "      <td>2021-11-18 15:52:34</td>\n",
       "      <td>0.262047</td>\n",
       "      <td>True</td>\n",
       "      <td>put</td>\n",
       "    </tr>\n",
       "    <tr>\n",
       "      <th>2024-01-19</th>\n",
       "      <td>MSFT240119P00470000</td>\n",
       "      <td>470.0</td>\n",
       "      <td>USD</td>\n",
       "      <td>147.05</td>\n",
       "      <td>0.000000</td>\n",
       "      <td>0.000000</td>\n",
       "      <td>NaN</td>\n",
       "      <td>1.0</td>\n",
       "      <td>150.0</td>\n",
       "      <td>154.50</td>\n",
       "      <td>REGULAR</td>\n",
       "      <td>2021-11-03 13:44:50</td>\n",
       "      <td>0.261284</td>\n",
       "      <td>True</td>\n",
       "      <td>put</td>\n",
       "    </tr>\n",
       "    <tr>\n",
       "      <th>2024-01-19</th>\n",
       "      <td>MSFT240119P00480000</td>\n",
       "      <td>480.0</td>\n",
       "      <td>USD</td>\n",
       "      <td>160.50</td>\n",
       "      <td>0.000000</td>\n",
       "      <td>0.000000</td>\n",
       "      <td>1.0</td>\n",
       "      <td>4.0</td>\n",
       "      <td>158.5</td>\n",
       "      <td>163.00</td>\n",
       "      <td>REGULAR</td>\n",
       "      <td>2021-11-01 15:33:14</td>\n",
       "      <td>0.259605</td>\n",
       "      <td>True</td>\n",
       "      <td>put</td>\n",
       "    </tr>\n",
       "    <tr>\n",
       "      <th>2024-01-19</th>\n",
       "      <td>MSFT240119P00500000</td>\n",
       "      <td>500.0</td>\n",
       "      <td>USD</td>\n",
       "      <td>166.22</td>\n",
       "      <td>0.000000</td>\n",
       "      <td>0.000000</td>\n",
       "      <td>1.0</td>\n",
       "      <td>2.0</td>\n",
       "      <td>176.0</td>\n",
       "      <td>181.00</td>\n",
       "      <td>REGULAR</td>\n",
       "      <td>2021-11-18 16:48:04</td>\n",
       "      <td>0.261085</td>\n",
       "      <td>True</td>\n",
       "      <td>put</td>\n",
       "    </tr>\n",
       "  </tbody>\n",
       "</table>\n",
       "<p>62 rows × 15 columns</p>\n",
       "</div>"
      ],
      "text/plain": [
       "                 contractSymbol  strike currency  lastPrice    change  \\\n",
       "expiration                                                              \n",
       "2024-01-19  MSFT240119P00145000   145.0      USD       3.53  0.520000   \n",
       "2024-01-19  MSFT240119P00150000   150.0      USD       4.08  0.000000   \n",
       "2024-01-19  MSFT240119P00155000   155.0      USD       4.02  0.000000   \n",
       "2024-01-19  MSFT240119P00160000   160.0      USD       4.80  0.000000   \n",
       "2024-01-19  MSFT240119P00165000   165.0      USD       5.00  0.000000   \n",
       "...                         ...     ...      ...        ...       ...   \n",
       "2024-01-19  MSFT240119P00450000   450.0      USD     134.80  9.540001   \n",
       "2024-01-19  MSFT240119P00460000   460.0      USD     134.00  0.000000   \n",
       "2024-01-19  MSFT240119P00470000   470.0      USD     147.05  0.000000   \n",
       "2024-01-19  MSFT240119P00480000   480.0      USD     160.50  0.000000   \n",
       "2024-01-19  MSFT240119P00500000   500.0      USD     166.22  0.000000   \n",
       "\n",
       "            percentChange  volume  openInterest    bid     ask contractSize  \\\n",
       "expiration                                                                    \n",
       "2024-01-19      17.275747  1494.0        2096.0    2.4    4.00      REGULAR   \n",
       "2024-01-19       0.000000   130.0         167.0    2.4    5.45      REGULAR   \n",
       "2024-01-19       0.000000     2.0         224.0    2.5    5.50      REGULAR   \n",
       "2024-01-19       0.000000     1.0          42.0    3.0    8.00      REGULAR   \n",
       "2024-01-19       0.000000     1.0         289.0    3.5    8.50      REGULAR   \n",
       "...                   ...     ...           ...    ...     ...          ...   \n",
       "2024-01-19       7.616159     4.0         429.0  133.0  137.50      REGULAR   \n",
       "2024-01-19       0.000000     1.0           1.0  141.5  146.00      REGULAR   \n",
       "2024-01-19       0.000000     NaN           1.0  150.0  154.50      REGULAR   \n",
       "2024-01-19       0.000000     1.0           4.0  158.5  163.00      REGULAR   \n",
       "2024-01-19       0.000000     1.0           2.0  176.0  181.00      REGULAR   \n",
       "\n",
       "                 lastTradeDate  impliedVolatility  inTheMoney type  \n",
       "expiration                                                          \n",
       "2024-01-19 2021-11-26 17:53:21           0.387793       False  put  \n",
       "2024-01-19 2021-11-24 14:52:50           0.404028       False  put  \n",
       "2024-01-19 2021-11-22 18:00:48           0.390570       False  put  \n",
       "2024-01-19 2021-11-24 14:57:42           0.418615       False  put  \n",
       "2024-01-19 2021-11-19 18:59:25           0.411383       False  put  \n",
       "...                        ...                ...         ...  ...  \n",
       "2024-01-19 2021-11-26 17:52:00           0.261940        True  put  \n",
       "2024-01-19 2021-11-18 15:52:34           0.262047        True  put  \n",
       "2024-01-19 2021-11-03 13:44:50           0.261284        True  put  \n",
       "2024-01-19 2021-11-01 15:33:14           0.259605        True  put  \n",
       "2024-01-19 2021-11-18 16:48:04           0.261085        True  put  \n",
       "\n",
       "[62 rows x 15 columns]"
      ]
     },
     "execution_count": 25,
     "metadata": {},
     "output_type": "execute_result"
    }
   ],
   "source": [
    "indice_opt = opciones_msft.loc[(opciones_msft.type == \"put\") & (opciones_msft.expiration == \"2024-01-19\")].set_index(\"expiration\")\n",
    "indice_opt "
   ]
  },
  {
   "cell_type": "code",
   "execution_count": 26,
   "id": "cf1c1f13",
   "metadata": {},
   "outputs": [
    {
     "data": {
      "image/png": "[encoded data removed]",
      "text/plain": [
       "<Figure size 576x432 with 1 Axes>"
      ]
     },
     "metadata": {
      "needs_background": "light"
     },
     "output_type": "display_data"
    }
   ],
   "source": [
    "plt.figure(figsize = [8, 6]) # gráfica de sonrisa de volatilidad implícita\n",
    "plt.plot(indice_opt.set_index(\"strike\").loc[:, \"impliedVolatility\"])\n",
    "plt.title(\"Sonrisa de volatilidad implícita de puts de Microsoft\")\n",
    "plt.xlabel(\"Strike\")\n",
    "plt.ylabel(\"Volalitidad implícita\")\n",
    "plt.axvline(closes_msft.iloc[-1]) #329.67\n",
    "plt.show()"
   ]
  },
  {
   "cell_type": "code",
   "execution_count": 27,
   "id": "a90185ef",
   "metadata": {},
   "outputs": [
    {
     "name": "stdout",
     "output_type": "stream",
     "text": [
      "El precio del activo el dia de hoy es de 329.67999267578125.\n"
     ]
    }
   ],
   "source": [
    "print(\"El precio del activo el dia de hoy es de \" + str(closes_msft.iloc[-1]) + \".\") "
   ]
  },
  {
   "cell_type": "code",
   "execution_count": 28,
   "id": "dd72ac83",
   "metadata": {},
   "outputs": [
    {
     "data": {
      "text/html": [
       "<div>\n",
       "<style scoped>\n",
       "    .dataframe tbody tr th:only-of-type {\n",
       "        vertical-align: middle;\n",
       "    }\n",
       "\n",
       "    .dataframe tbody tr th {\n",
       "        vertical-align: top;\n",
       "    }\n",
       "\n",
       "    .dataframe thead th {\n",
       "        text-align: right;\n",
       "    }\n",
       "</style>\n",
       "<table border=\"1\" class=\"dataframe\">\n",
       "  <thead>\n",
       "    <tr style=\"text-align: right;\">\n",
       "      <th></th>\n",
       "      <th>contractSymbol</th>\n",
       "      <th>strike</th>\n",
       "      <th>currency</th>\n",
       "      <th>lastPrice</th>\n",
       "      <th>change</th>\n",
       "      <th>percentChange</th>\n",
       "      <th>volume</th>\n",
       "      <th>...</th>\n",
       "      <th>ask</th>\n",
       "      <th>contractSize</th>\n",
       "      <th>expiration</th>\n",
       "      <th>lastTradeDate</th>\n",
       "      <th>impliedVolatility</th>\n",
       "      <th>inTheMoney</th>\n",
       "      <th>type</th>\n",
       "    </tr>\n",
       "  </thead>\n",
       "  <tbody>\n",
       "    <tr>\n",
       "      <th>1835</th>\n",
       "      <td>MSFT240119P00300000</td>\n",
       "      <td>300.0</td>\n",
       "      <td>USD</td>\n",
       "      <td>40.0</td>\n",
       "      <td>3.790001</td>\n",
       "      <td>10.466724</td>\n",
       "      <td>26.0</td>\n",
       "      <td>...</td>\n",
       "      <td>42.0</td>\n",
       "      <td>REGULAR</td>\n",
       "      <td>2024-01-19</td>\n",
       "      <td>2021-11-26 16:03:07</td>\n",
       "      <td>0.30487</td>\n",
       "      <td>False</td>\n",
       "      <td>put</td>\n",
       "    </tr>\n",
       "  </tbody>\n",
       "</table>\n",
       "<p>1 rows × 16 columns</p>\n",
       "</div>"
      ],
      "text/plain": [
       "           contractSymbol  strike currency  lastPrice    change  \\\n",
       "1835  MSFT240119P00300000   300.0      USD       40.0  3.790001   \n",
       "\n",
       "      percentChange  volume  ...   ask  contractSize  expiration  \\\n",
       "1835      10.466724    26.0  ...  42.0       REGULAR  2024-01-19   \n",
       "\n",
       "           lastTradeDate impliedVolatility inTheMoney  type  \n",
       "1835 2021-11-26 16:03:07           0.30487      False   put  \n",
       "\n",
       "[1 rows x 16 columns]"
      ]
     },
     "execution_count": 28,
     "metadata": {},
     "output_type": "execute_result"
    }
   ],
   "source": [
    "opt_deseada = opciones_msft.loc[(opciones_msft.type == \"put\") & (opciones_msft.strike == 300) & (opciones_msft.expiration == \"2024-01-19\")]\n",
    "opt_deseada # defino mi strike de 300, debe ser más bajo que el spot price"
   ]
  },
  {
   "cell_type": "markdown",
   "id": "349762e6",
   "metadata": {},
   "source": [
    "### Simulación con modelo de rendimientos normales\n",
    "\n",
    "Se realiza la comparativa entre la put europea y la put barrera con el modelo de rendimientos normales. \n",
    "\n",
    "La tasa libre de riesgo es la misma que en los call \n",
    "\n",
    "Se definió una barrera de 400 debido a que se sabe que esta debe ser mayor al spot price. "
   ]
  },
  {
   "cell_type": "code",
   "execution_count": 29,
   "id": "a33ea53d",
   "metadata": {},
   "outputs": [],
   "source": [
    "opt_valuar = opt_deseada.loc[list(opt_deseada.index)[0]]\n",
    "K = opt_valuar.strike \n",
    "strike = K \n",
    "put = pd.DataFrame({\"Prima europea\": np.exp(-r * ndays) * np.fmax(strike - sim_closes, 0).mean(axis = 1)}, index = dates)\n",
    "B = 400 \n",
    "I = (sim_closes < B).cumprod(axis = 0) > 0 \n",
    "putuo_norm = pd.DataFrame({\"Prima up-and-out\": np.exp(-r * ndays) * (I * np.fmax(strike - sim_closes, \n",
    "                                                                                 0)).mean(axis = 1)}, index = dates) "
   ]
  },
  {
   "cell_type": "code",
   "execution_count": 30,
   "id": "18a699b7",
   "metadata": {},
   "outputs": [
    {
     "data": {
      "image/png": "[encoded data removed]",
      "text/plain": [
       "<Figure size 576x432 with 1 Axes>"
      ]
     },
     "metadata": {
      "needs_background": "light"
     },
     "output_type": "display_data"
    }
   ],
   "source": [
    "plt.figure(figsize = [8, 6]) # gráfica de simulación con rendimientos normales de put europea y up and out\n",
    "plt.plot(put, label = \"Opción de venta europea\")\n",
    "plt.plot(putuo_norm, label = \"Opción de venta barrera up-and-out\")\n",
    "plt.title(\"Simulación de prima de opciones put de Microsoft con rendimientos normales\")\n",
    "plt.xlabel(\"Fecha\")\n",
    "plt.ylabel(\"Prima\")\n",
    "plt.legend(loc = \"best\")\n",
    "plt.show()"
   ]
  },
  {
   "cell_type": "code",
   "execution_count": 31,
   "id": "591ec3ae",
   "metadata": {},
   "outputs": [
    {
     "name": "stdout",
     "output_type": "stream",
     "text": [
      "El precio real de la prima del put de Microsot es 40.0.\n"
     ]
    }
   ],
   "source": [
    "print(\"El precio real de la prima del put de Microsot es \" + str(opt_valuar[\"lastPrice\"]) + \".\") # recordar prima"
   ]
  },
  {
   "cell_type": "markdown",
   "id": "a2eb1cf7",
   "metadata": {},
   "source": [
    "**Valuación europea**"
   ]
  },
  {
   "cell_type": "code",
   "execution_count": 32,
   "id": "de01c18b",
   "metadata": {},
   "outputs": [
    {
     "data": {
      "text/plain": [
       "Prima europea    28.407491\n",
       "Name: 2024-01-19 00:00:00, dtype: float64"
      ]
     },
     "execution_count": 32,
     "metadata": {},
     "output_type": "execute_result"
    }
   ],
   "source": [
    "put.iloc[-1] # valuación de la prima de put europea en el último día (al cierre del contrato)"
   ]
  },
  {
   "cell_type": "code",
   "execution_count": 33,
   "id": "bc4695bc",
   "metadata": {},
   "outputs": [
    {
     "name": "stdout",
     "output_type": "stream",
     "text": [
      "El intervalo de confianza de la valuación del put europeo de Microsoft con el modelo de los rendimientos normales es (27.43918059436269, 29.375801165536714).\n"
     ]
    }
   ],
   "source": [
    "mean_est = put.iloc[-1][\"Prima europea\"] \n",
    "i = st.norm.interval(confianza, loc = mean_est, scale = sigma_est) # asumir distribución normal\n",
    "print(\"El intervalo de confianza de la valuación del put europeo de Microsoft con el modelo de los rendimientos normales\" +\n",
    "      \" es \" + str(i) + \".\")"
   ]
  },
  {
   "cell_type": "markdown",
   "id": "87edd931",
   "metadata": {},
   "source": [
    "El intervalo de confianza de la valuación de la prima europea da cerca a la prima real, por lo que la simulación con el modelo de rendimientos normales es confiable."
   ]
  },
  {
   "cell_type": "markdown",
   "id": "32947a37",
   "metadata": {},
   "source": [
    "**Valuación barrera**"
   ]
  },
  {
   "cell_type": "code",
   "execution_count": 34,
   "id": "ed1f3d58",
   "metadata": {},
   "outputs": [
    {
     "data": {
      "text/plain": [
       "Prima up-and-out    22.870378\n",
       "Name: 2024-01-19 00:00:00, dtype: float64"
      ]
     },
     "execution_count": 34,
     "metadata": {},
     "output_type": "execute_result"
    }
   ],
   "source": [
    "putuo_norm.iloc[-1] # valuación de la prima de put barrera en el último día (al cierre del contrato)"
   ]
  },
  {
   "cell_type": "code",
   "execution_count": 35,
   "id": "05a0296a",
   "metadata": {},
   "outputs": [
    {
     "name": "stdout",
     "output_type": "stream",
     "text": [
      "El intervalo de confianza de la valuación del put up-and-out de Microsoft con el modelo de los rendimientos normales es (21.902068188583566, 23.83868875975759).\n"
     ]
    }
   ],
   "source": [
    "mean_est = putuo_norm.iloc[-1][\"Prima up-and-out\"] \n",
    "i = st.norm.interval(confianza, loc = mean_est, scale = sigma_est) \n",
    "print(\"El intervalo de confianza de la valuación del put up-and-out de Microsoft con el modelo de los rendimientos normales\" +\n",
    "      \" es \" + str(i) + \".\")"
   ]
  },
  {
   "cell_type": "markdown",
   "id": "0585e0e4",
   "metadata": {},
   "source": [
    "El intervalo de confianza de la valuacion barrera esta más alejada que la europea, esto tiene sentido,ya que mientras mas baja sea la barrera, mayor es la probabilidad de que la opción se desactive por lo que el riesgo sería mayor y la prima más barata."
   ]
  },
  {
   "cell_type": "markdown",
   "id": "7f084acc",
   "metadata": {},
   "source": [
    "### Simulación con histograma de rendimientos"
   ]
  },
  {
   "cell_type": "code",
   "execution_count": 36,
   "id": "40817e6e",
   "metadata": {},
   "outputs": [],
   "source": [
    "put_hist = pd.DataFrame({\"Prima europea\": np.exp(-r * ndays) * np.fmax(strike - sim_closes_hist, \n",
    "                                                                       np.zeros([ndays, nscen])).T.mean()}, index = dates)\n",
    "putuo_hist = pd.DataFrame({\"Prima up-and-out\": np.exp(-r * ndays) * (I * np.fmax(strike - sim_closes_hist, \n",
    "                                                                                 0)).mean(axis = 1)}, index = dates) "
   ]
  },
  {
   "cell_type": "code",
   "execution_count": 37,
   "id": "83f9c026",
   "metadata": {},
   "outputs": [
    {
     "data": {
      "image/png": "[encoded data removed]",
      "text/plain": [
       "<Figure size 576x432 with 1 Axes>"
      ]
     },
     "metadata": {
      "needs_background": "light"
     },
     "output_type": "display_data"
    }
   ],
   "source": [
    "plt.figure(figsize = [8, 6]) # gráfica de simulación de prima del put europea y up and out\n",
    "plt.plot(put, label = \"Put europea\")\n",
    "plt.plot(putuo_hist, label = \"Put up-and-out\")\n",
    "plt.title(\"Simulación de prima de opciones put de Microsoft con histograma de rendimientos\")\n",
    "plt.xlabel(\"Fecha\")\n",
    "plt.ylabel(\"Prima\")\n",
    "plt.legend(loc = \"best\")\n",
    "plt.show()"
   ]
  },
  {
   "cell_type": "markdown",
   "id": "bfeb5efe",
   "metadata": {},
   "source": [
    "**Valuación europea**"
   ]
  },
  {
   "cell_type": "code",
   "execution_count": 38,
   "id": "86aada76",
   "metadata": {},
   "outputs": [
    {
     "data": {
      "text/plain": [
       "Prima europea    27.600771\n",
       "Name: 2024-01-19 00:00:00, dtype: float64"
      ]
     },
     "execution_count": 38,
     "metadata": {},
     "output_type": "execute_result"
    }
   ],
   "source": [
    "put_hist.iloc[-1] # valuación de la prima de put europea en el último día (al cierre del contrato)"
   ]
  },
  {
   "cell_type": "code",
   "execution_count": 39,
   "id": "98155f9e",
   "metadata": {},
   "outputs": [
    {
     "name": "stdout",
     "output_type": "stream",
     "text": [
      "El intervalo de confianza de la valuación del put europeo de Microsoft con el modelo del histograma de los rendimientos es (26.632461200335097, 28.569081771509122).\n"
     ]
    }
   ],
   "source": [
    "mean_est = put_hist.iloc[-1][\"Prima europea\"] # media de la simulación\n",
    "i = st.norm.interval(confianza, loc = mean_est, scale = sigma_est) # asumir distribución normal\n",
    "print(\"El intervalo de confianza de la valuación del put europeo de Microsoft con el modelo del histograma de los\" +\n",
    "      \" rendimientos es \" + str(i) + \".\")"
   ]
  },
  {
   "cell_type": "markdown",
   "id": "9d465268",
   "metadata": {},
   "source": [
    "El intervalo de confianza de la valuación de la prima europea da cerca a la prima real, por lo que la simulación con el histograma de los rendimientos también es confiable (un poco menos que la valuación con el modelo de rendimientos normales)."
   ]
  },
  {
   "cell_type": "markdown",
   "id": "acae2bcc",
   "metadata": {},
   "source": [
    "**Valuación barrera**"
   ]
  },
  {
   "cell_type": "code",
   "execution_count": 40,
   "id": "676f734e",
   "metadata": {},
   "outputs": [
    {
     "data": {
      "text/plain": [
       "Prima up-and-out    10.239177\n",
       "Name: 2024-01-19 00:00:00, dtype: float64"
      ]
     },
     "execution_count": 40,
     "metadata": {},
     "output_type": "execute_result"
    }
   ],
   "source": [
    "putuo_hist.iloc[-1] # valuación de la prima de put barrera en el último día (al cierre del contrato)"
   ]
  },
  {
   "cell_type": "code",
   "execution_count": 41,
   "id": "a00a52db",
   "metadata": {},
   "outputs": [
    {
     "name": "stdout",
     "output_type": "stream",
     "text": [
      "El intervalo de confianza de la valuación del put up-and-out de Microsoft con el modelo del histograma de los rendimientos es (9.270866711281297, 11.207487282455318).\n"
     ]
    }
   ],
   "source": [
    "mean_est = putuo_hist.iloc[-1][\"Prima up-and-out\"] # media de la simulación\n",
    "i = st.norm.interval(confianza, loc = mean_est, scale = sigma_est) # asumir distribución normal\n",
    "print(\"El intervalo de confianza de la valuación del put up-and-out de Microsoft con el modelo del histograma de los\" +\n",
    "      \" rendimientos es \" + str(i) + \".\")"
   ]
  },
  {
   "cell_type": "markdown",
   "id": "c6f5b257",
   "metadata": {},
   "source": [
    "La valuación con el histograma de los rendimientos de la put barrera es mucho menor a la valuación real de la opción"
   ]
  },
  {
   "cell_type": "markdown",
   "id": "540eeac0",
   "metadata": {},
   "source": [
    "SOLUCION CRISTINA"
   ]
  },
  {
   "cell_type": "code",
   "execution_count": null,
   "id": "5682ac65",
   "metadata": {},
   "outputs": [],
   "source": []
  }
 ],
 "metadata": {
  "kernelspec": {
   "display_name": "Python 3",
   "language": "python",
   "name": "python3"
  },
  "language_info": {
   "codemirror_mode": {
    "name": "ipython",
    "version": 3
   },
   "file_extension": ".py",
   "mimetype": "text/x-python",
   "name": "python",
   "nbconvert_exporter": "python",
   "pygments_lexer": "ipython3",
   "version": "3.8.8"
  }
 },
 "nbformat": 4,
 "nbformat_minor": 5
}
